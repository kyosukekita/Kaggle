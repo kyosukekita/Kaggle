{
 "cells": [
  {
   "cell_type": "code",
   "execution_count": 1,
   "id": "0c435227",
   "metadata": {
    "execution": {
     "iopub.execute_input": "2021-11-21T13:11:12.704488Z",
     "iopub.status.busy": "2021-11-21T13:11:12.702953Z",
     "iopub.status.idle": "2021-11-21T13:11:13.900733Z",
     "shell.execute_reply": "2021-11-21T13:11:13.900086Z",
     "shell.execute_reply.started": "2021-11-21T11:38:39.726428Z"
    },
    "papermill": {
     "duration": 1.213749,
     "end_time": "2021-11-21T13:11:13.900907",
     "exception": false,
     "start_time": "2021-11-21T13:11:12.687158",
     "status": "completed"
    },
    "tags": []
   },
   "outputs": [],
   "source": [
    "import numpy as np # linear algebra\n",
    "import pandas as pd # data processing, CSV file I/O (e.g. pd.read_csv)\n",
    "import matplotlib.pyplot as plt\n",
    "import seaborn as sns\n",
    "import os\n",
    "import re\n",
    "import shutil\n",
    "import random\n",
    "random.seed(42)\n",
    "import tqdm\n",
    "\n",
    "import pydicom\n",
    "from pydicom.pixel_data_handlers.util import apply_voi_lut\n",
    "\n",
    "import cv2\n",
    "from sklearn import preprocessing"
   ]
  },
  {
   "cell_type": "code",
   "execution_count": 2,
   "id": "43d27a75",
   "metadata": {
    "execution": {
     "iopub.execute_input": "2021-11-21T13:11:13.924126Z",
     "iopub.status.busy": "2021-11-21T13:11:13.923588Z",
     "iopub.status.idle": "2021-11-21T13:11:13.970687Z",
     "shell.execute_reply": "2021-11-21T13:11:13.969881Z",
     "shell.execute_reply.started": "2021-11-21T11:38:39.733768Z"
    },
    "papermill": {
     "duration": 0.060195,
     "end_time": "2021-11-21T13:11:13.970804",
     "exception": false,
     "start_time": "2021-11-21T13:11:13.910609",
     "status": "completed"
    },
    "tags": []
   },
   "outputs": [],
   "source": [
    "train_data=pd.read_csv(\"../input/petfinder-pawpularity-score/train.csv\").to_numpy()\n",
    "test_data=pd.read_csv(\"../input/petfinder-pawpularity-score/test.csv\").to_numpy()\n",
    "\n",
    "train_path=\"../input/petfinder-pawpularity-score/train\"\n",
    "test_path=\"../input/petfinder-pawpularity-score/test\"\n",
    "\n",
    "dimensions=(512,512,3)"
   ]
  },
  {
   "cell_type": "code",
   "execution_count": 3,
   "id": "2d6f3619",
   "metadata": {
    "execution": {
     "iopub.execute_input": "2021-11-21T13:11:13.992171Z",
     "iopub.status.busy": "2021-11-21T13:11:13.991595Z",
     "iopub.status.idle": "2021-11-21T13:11:17.696954Z",
     "shell.execute_reply": "2021-11-21T13:11:17.697400Z",
     "shell.execute_reply.started": "2021-11-21T11:38:39.784042Z"
    },
    "papermill": {
     "duration": 3.718111,
     "end_time": "2021-11-21T13:11:17.697613",
     "exception": false,
     "start_time": "2021-11-21T13:11:13.979502",
     "status": "completed"
    },
    "tags": []
   },
   "outputs": [],
   "source": [
    "import tensorflow as tf"
   ]
  },
  {
   "cell_type": "code",
   "execution_count": 4,
   "id": "e1eb93a5",
   "metadata": {
    "execution": {
     "iopub.execute_input": "2021-11-21T13:11:17.726908Z",
     "iopub.status.busy": "2021-11-21T13:11:17.726123Z",
     "iopub.status.idle": "2021-11-21T13:11:18.682531Z",
     "shell.execute_reply": "2021-11-21T13:11:18.683281Z",
     "shell.execute_reply.started": "2021-11-21T11:38:43.559441Z"
    },
    "papermill": {
     "duration": 0.977096,
     "end_time": "2021-11-21T13:11:18.683455",
     "exception": false,
     "start_time": "2021-11-21T13:11:17.706359",
     "status": "completed"
    },
    "tags": []
   },
   "outputs": [],
   "source": [
    "import keras\n",
    "class DataGenerator(tf.keras.utils.Sequence):\n",
    "    def __init__(self, directory, list_IDs, n_channels=3, batch_size=8, dim=dimensions, shuffle=True):\n",
    "        'Initialization'\n",
    "        self.dim = dim\n",
    "        self.directory = directory\n",
    "        self.batch_size = batch_size\n",
    "        self.list_IDs = list_IDs\n",
    "        self.shuffle = shuffle\n",
    "        self.on_epoch_end()\n",
    "        \n",
    "    def __len__(self):\n",
    "        return int(np.floor(len(self.list_IDs) / self.batch_size))\n",
    "        \n",
    "    def on_epoch_end(self):\n",
    "        self.indexes = np.arange(len(self.list_IDs))\n",
    "        if self.shuffle == True:\n",
    "            np.random.shuffle(self.indexes)\n",
    "            \n",
    "    def __data_generation(self, list_IDs_temp):\n",
    "        \n",
    "        X = np.empty((self.batch_size, *self.dim))\n",
    "        y = []\n",
    "            \n",
    "        for batch_number, id_temp_entry in enumerate(list_IDs_temp):\n",
    "            path = self.directory + '/' + id_temp_entry[0] + '.jpg'\n",
    "                \n",
    "            image = cv2.imread(path)# cv.IMREAD_GRAYSCALE)\n",
    "            image = cv2.resize(image, (self.dim[0],self.dim[1]))\n",
    "            image = image.reshape(dimensions)\n",
    "            \n",
    "            X[batch_number] = image\n",
    "            \n",
    "            if len(id_temp_entry) >= 14:\n",
    "                y.append(id_temp_entry[13])\n",
    "            \n",
    "        y = np.array(y)\n",
    "        if len(y) == 0:\n",
    "            return X, []\n",
    "        \n",
    "        \n",
    "        return X,  y\n",
    "                     \n",
    "    def __getitem__(self, index):\n",
    "            \n",
    "        indexes = self.indexes[index*self.batch_size:(index+1)*self.batch_size]\n",
    "\n",
    "        list_IDs_temp = [self.list_IDs[k] for k in indexes]\n",
    "        \n",
    "        X, y = self.__data_generation(list_IDs_temp)\n",
    "        \n",
    "        if len(y) == 0:\n",
    "            return X\n",
    "\n",
    "        return X, y"
   ]
  },
  {
   "cell_type": "code",
   "execution_count": 5,
   "id": "fa96b2a2",
   "metadata": {
    "execution": {
     "iopub.execute_input": "2021-11-21T13:11:18.707403Z",
     "iopub.status.busy": "2021-11-21T13:11:18.706658Z",
     "iopub.status.idle": "2021-11-21T13:11:18.710000Z",
     "shell.execute_reply": "2021-11-21T13:11:18.709575Z",
     "shell.execute_reply.started": "2021-11-21T11:38:44.561724Z"
    },
    "papermill": {
     "duration": 0.017547,
     "end_time": "2021-11-21T13:11:18.710106",
     "exception": false,
     "start_time": "2021-11-21T13:11:18.692559",
     "status": "completed"
    },
    "tags": []
   },
   "outputs": [],
   "source": [
    "from tensorflow.keras.applications import inception_v3\n",
    "from tensorflow.keras import models\n",
    "from tensorflow.keras import layers\n",
    "\n",
    "#https://qiita.com/kuroneko-hornet/items/7737b71c3854c06fcb49\n",
    "def build_model():\n",
    "    conv_base=inception_v3.InceptionV3(weights=None,\n",
    "                  include_top=False,\n",
    "                  input_shape=dimensions# resnetを使う場合、channelを3にしないといけない\n",
    "                      )\n",
    "\n",
    "    model=models.Sequential()\n",
    "    model.add(conv_base)\n",
    "    model.add(layers.Flatten())\n",
    "    model.add(layers.Dense(128, activation=\"relu\"))\n",
    "    model.add(layers.Dense(1))\n",
    "\n",
    "    return model"
   ]
  },
  {
   "cell_type": "code",
   "execution_count": 6,
   "id": "ef472c9b",
   "metadata": {
    "execution": {
     "iopub.execute_input": "2021-11-21T13:11:18.732858Z",
     "iopub.status.busy": "2021-11-21T13:11:18.732190Z",
     "iopub.status.idle": "2021-11-21T13:11:23.087365Z",
     "shell.execute_reply": "2021-11-21T13:11:23.086837Z",
     "shell.execute_reply.started": "2021-11-21T11:38:44.571395Z"
    },
    "papermill": {
     "duration": 4.368842,
     "end_time": "2021-11-21T13:11:23.087518",
     "exception": false,
     "start_time": "2021-11-21T13:11:18.718676",
     "status": "completed"
    },
    "tags": []
   },
   "outputs": [
    {
     "name": "stderr",
     "output_type": "stream",
     "text": [
      "2021-11-21 13:11:18.804498: I tensorflow/stream_executor/cuda/cuda_gpu_executor.cc:937] successful NUMA node read from SysFS had negative value (-1), but there must be at least one NUMA node, so returning NUMA node zero\n",
      "2021-11-21 13:11:18.911726: I tensorflow/stream_executor/cuda/cuda_gpu_executor.cc:937] successful NUMA node read from SysFS had negative value (-1), but there must be at least one NUMA node, so returning NUMA node zero\n",
      "2021-11-21 13:11:18.912424: I tensorflow/stream_executor/cuda/cuda_gpu_executor.cc:937] successful NUMA node read from SysFS had negative value (-1), but there must be at least one NUMA node, so returning NUMA node zero\n",
      "2021-11-21 13:11:18.913591: I tensorflow/core/platform/cpu_feature_guard.cc:142] This TensorFlow binary is optimized with oneAPI Deep Neural Network Library (oneDNN) to use the following CPU instructions in performance-critical operations:  AVX2 AVX512F FMA\n",
      "To enable them in other operations, rebuild TensorFlow with the appropriate compiler flags.\n",
      "2021-11-21 13:11:18.918518: I tensorflow/stream_executor/cuda/cuda_gpu_executor.cc:937] successful NUMA node read from SysFS had negative value (-1), but there must be at least one NUMA node, so returning NUMA node zero\n",
      "2021-11-21 13:11:18.919191: I tensorflow/stream_executor/cuda/cuda_gpu_executor.cc:937] successful NUMA node read from SysFS had negative value (-1), but there must be at least one NUMA node, so returning NUMA node zero\n",
      "2021-11-21 13:11:18.919855: I tensorflow/stream_executor/cuda/cuda_gpu_executor.cc:937] successful NUMA node read from SysFS had negative value (-1), but there must be at least one NUMA node, so returning NUMA node zero\n",
      "2021-11-21 13:11:20.911722: I tensorflow/stream_executor/cuda/cuda_gpu_executor.cc:937] successful NUMA node read from SysFS had negative value (-1), but there must be at least one NUMA node, so returning NUMA node zero\n",
      "2021-11-21 13:11:20.912712: I tensorflow/stream_executor/cuda/cuda_gpu_executor.cc:937] successful NUMA node read from SysFS had negative value (-1), but there must be at least one NUMA node, so returning NUMA node zero\n",
      "2021-11-21 13:11:20.913352: I tensorflow/stream_executor/cuda/cuda_gpu_executor.cc:937] successful NUMA node read from SysFS had negative value (-1), but there must be at least one NUMA node, so returning NUMA node zero\n",
      "2021-11-21 13:11:20.913937: I tensorflow/core/common_runtime/gpu/gpu_device.cc:1510] Created device /job:localhost/replica:0/task:0/device:GPU:0 with 15403 MB memory:  -> device: 0, name: Tesla P100-PCIE-16GB, pci bus id: 0000:00:04.0, compute capability: 6.0\n"
     ]
    }
   ],
   "source": [
    "model=build_model()"
   ]
  },
  {
   "cell_type": "code",
   "execution_count": null,
   "id": "641135c1",
   "metadata": {
    "papermill": {
     "duration": 0.009411,
     "end_time": "2021-11-21T13:11:23.106860",
     "exception": false,
     "start_time": "2021-11-21T13:11:23.097449",
     "status": "completed"
    },
    "tags": []
   },
   "outputs": [],
   "source": []
  },
  {
   "cell_type": "code",
   "execution_count": 7,
   "id": "54bed934",
   "metadata": {
    "execution": {
     "iopub.execute_input": "2021-11-21T13:11:23.136688Z",
     "iopub.status.busy": "2021-11-21T13:11:23.129091Z",
     "iopub.status.idle": "2021-11-21T13:11:23.144406Z",
     "shell.execute_reply": "2021-11-21T13:11:23.143995Z",
     "shell.execute_reply.started": "2021-11-21T11:38:49.915729Z"
    },
    "papermill": {
     "duration": 0.028741,
     "end_time": "2021-11-21T13:11:23.144539",
     "exception": false,
     "start_time": "2021-11-21T13:11:23.115798",
     "status": "completed"
    },
    "tags": []
   },
   "outputs": [],
   "source": [
    "model.compile(optimizer=\"adam\",\n",
    "              loss=tf.keras.losses.MeanSquaredError(),metrics=[\"mse\",\"mae\"])"
   ]
  },
  {
   "cell_type": "code",
   "execution_count": null,
   "id": "e5487994",
   "metadata": {
    "papermill": {
     "duration": 0.008647,
     "end_time": "2021-11-21T13:11:23.162045",
     "exception": false,
     "start_time": "2021-11-21T13:11:23.153398",
     "status": "completed"
    },
    "tags": []
   },
   "outputs": [],
   "source": []
  },
  {
   "cell_type": "code",
   "execution_count": 8,
   "id": "54a7cb11",
   "metadata": {
    "execution": {
     "iopub.execute_input": "2021-11-21T13:11:23.188045Z",
     "iopub.status.busy": "2021-11-21T13:11:23.187338Z",
     "iopub.status.idle": "2021-11-21T13:31:41.233292Z",
     "shell.execute_reply": "2021-11-21T13:31:41.232758Z",
     "shell.execute_reply.started": "2021-11-21T11:38:49.939078Z"
    },
    "papermill": {
     "duration": 1218.062572,
     "end_time": "2021-11-21T13:31:41.233422",
     "exception": false,
     "start_time": "2021-11-21T13:11:23.170850",
     "status": "completed"
    },
    "tags": []
   },
   "outputs": [
    {
     "name": "stderr",
     "output_type": "stream",
     "text": [
      "2021-11-21 13:11:23.989845: I tensorflow/compiler/mlir/mlir_graph_optimization_pass.cc:185] None of the MLIR Optimization Passes are enabled (registered 2)\n"
     ]
    },
    {
     "name": "stdout",
     "output_type": "stream",
     "text": [
      "Epoch 1/5\n"
     ]
    },
    {
     "name": "stderr",
     "output_type": "stream",
     "text": [
      "2021-11-21 13:11:31.571800: I tensorflow/stream_executor/cuda/cuda_dnn.cc:369] Loaded cuDNN version 8005\n"
     ]
    },
    {
     "name": "stdout",
     "output_type": "stream",
     "text": [
      "309/309 [==============================] - 275s 840ms/step - loss: 5378.5449 - mse: 5378.5449 - mae: 40.8251 - val_loss: 0.0000e+00 - val_mse: 0.0000e+00 - val_mae: 0.0000e+00\n",
      "Epoch 2/5\n",
      "309/309 [==============================] - 226s 729ms/step - loss: 1851.6058 - mse: 1851.6058 - mae: 37.7880 - val_loss: 0.0000e+00 - val_mse: 0.0000e+00 - val_mae: 0.0000e+00\n",
      "Epoch 3/5\n",
      "309/309 [==============================] - 226s 730ms/step - loss: 1835.3081 - mse: 1835.3081 - mae: 37.5585 - val_loss: 0.0000e+00 - val_mse: 0.0000e+00 - val_mae: 0.0000e+00\n",
      "Epoch 4/5\n",
      "309/309 [==============================] - 226s 731ms/step - loss: 1815.3839 - mse: 1815.3839 - mae: 37.2985 - val_loss: 0.0000e+00 - val_mse: 0.0000e+00 - val_mae: 0.0000e+00\n",
      "Epoch 5/5\n",
      "309/309 [==============================] - 227s 733ms/step - loss: 1794.5920 - mse: 1794.5920 - mae: 37.0158 - val_loss: 0.0000e+00 - val_mse: 0.0000e+00 - val_mae: 0.0000e+00\n",
      "Model: \"sequential\"\n",
      "_________________________________________________________________\n",
      "Layer (type)                 Output Shape              Param #   \n",
      "=================================================================\n",
      "inception_v3 (Functional)    (None, 14, 14, 2048)      21802784  \n",
      "_________________________________________________________________\n",
      "flatten (Flatten)            (None, 401408)            0         \n",
      "_________________________________________________________________\n",
      "dense (Dense)                (None, 128)               51380352  \n",
      "_________________________________________________________________\n",
      "dense_1 (Dense)              (None, 1)                 129       \n",
      "=================================================================\n",
      "Total params: 73,183,265\n",
      "Trainable params: 73,148,833\n",
      "Non-trainable params: 34,432\n",
      "_________________________________________________________________\n"
     ]
    }
   ],
   "source": [
    "training_generator=DataGenerator(train_path, train_data, batch_size=32)\n",
    "validation_generator=DataGenerator(test_path, test_data, batch_size=1)\n",
    "\n",
    "model.fit(training_generator,\n",
    "          validation_data=validation_generator, epochs=5)\n",
    "model.summary()\n",
    "results=model.predict(validation_generator)"
   ]
  },
  {
   "cell_type": "code",
   "execution_count": 9,
   "id": "3ce34718",
   "metadata": {
    "execution": {
     "iopub.execute_input": "2021-11-21T13:31:42.059171Z",
     "iopub.status.busy": "2021-11-21T13:31:42.058262Z",
     "iopub.status.idle": "2021-11-21T13:31:42.063252Z",
     "shell.execute_reply": "2021-11-21T13:31:42.062823Z",
     "shell.execute_reply.started": "2021-11-21T12:32:12.287939Z"
    },
    "papermill": {
     "duration": 0.424892,
     "end_time": "2021-11-21T13:31:42.063371",
     "exception": false,
     "start_time": "2021-11-21T13:31:41.638479",
     "status": "completed"
    },
    "tags": []
   },
   "outputs": [],
   "source": [
    "submission = []\n",
    "\n",
    "for index, result in enumerate(results):\n",
    "    submission.append([test_data[index][0], float(result[0])])\n",
    "    \n",
    "    \n",
    "df = pd.DataFrame(submission, columns=['Id', 'Pawpularity'])\n",
    "df = df.sort_values('Id')\n",
    "df.to_csv('submission.csv', index=False)"
   ]
  },
  {
   "cell_type": "code",
   "execution_count": null,
   "id": "b956355b",
   "metadata": {
    "papermill": {
     "duration": 0.407272,
     "end_time": "2021-11-21T13:31:42.875643",
     "exception": false,
     "start_time": "2021-11-21T13:31:42.468371",
     "status": "completed"
    },
    "tags": []
   },
   "outputs": [],
   "source": []
  }
 ],
 "metadata": {
  "kernelspec": {
   "display_name": "Python 3",
   "language": "python",
   "name": "python3"
  },
  "language_info": {
   "codemirror_mode": {
    "name": "ipython",
    "version": 3
   },
   "file_extension": ".py",
   "mimetype": "text/x-python",
   "name": "python",
   "nbconvert_exporter": "python",
   "pygments_lexer": "ipython3",
   "version": "3.7.10"
  },
  "papermill": {
   "default_parameters": {},
   "duration": 1242.006216,
   "end_time": "2021-11-21T13:31:47.284028",
   "environment_variables": {},
   "exception": null,
   "input_path": "__notebook__.ipynb",
   "output_path": "__notebook__.ipynb",
   "parameters": {},
   "start_time": "2021-11-21T13:11:05.277812",
   "version": "2.3.3"
  }
 },
 "nbformat": 4,
 "nbformat_minor": 5
}
